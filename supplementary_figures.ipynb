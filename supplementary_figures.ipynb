{
 "cells": [
  {
   "cell_type": "code",
   "execution_count": null,
   "metadata": {},
   "outputs": [],
   "source": [
    "# Supplementary Figures"
   ]
  },
  {
   "cell_type": "markdown",
   "metadata": {},
   "source": [
    "This section provides additional supplementary figures that are largely in parallel with those presented in the main article, apart for different publication years. Supplementary Figures 1 and 2 present the top 100 universities in total open access, open access (gold) publishing and repository-mediated (green) open access, for the publication years 2016 and 2018, respectively. These are produced analogously to Figure 1 of the main text.\n",
    "\n",
    "Supplementary Figures 3 to 5 are figures based on the complete list of universities (i.e., without filtering on margin of error). These represent the open access performances across different countries for the years 2016, 2017 and 2018. In parallel, Supplementary Figures 6 to 8 gives the overviews as per region.\n",
    "\n",
    "Supplementary Figure 9 is an extended version of Figure 3 of the main text and presents corresponsing time-stamped figures from 2007 to 2018. Supplementary Figure 10 provides additional information to Figure 4 of the main text."
   ]
  },
  {
   "cell_type": "code",
   "execution_count": null,
   "metadata": {},
   "outputs": [],
   "source": [
    "# General incantations and imports\n",
    "import pandas as pd\n",
    "import seaborn as sns\n",
    "import warnings\n",
    "import matplotlib.pyplot as plt\n",
    "warnings.filterwarnings(\"ignore\")\n",
    "\n",
    "from analysis import charts\n",
    "\n",
    "plt.style.use('seaborn-white')\n",
    "sns.set_context('paper')"
   ]
  },
  {
   "cell_type": "code",
   "execution_count": null,
   "metadata": {},
   "outputs": [],
   "source": [
    "full = pd.read_csv('https://zenodo.org/record/3693222/files/institutional_oa_evaluation_2020_full_paper_dataset_2020_02_12.csv?download=1')"
   ]
  },
  {
   "cell_type": "code",
   "execution_count": null,
   "metadata": {},
   "outputs": [],
   "source": [
    "named = pd.read_csv('https://zenodo.org/record/3693222/files/institutional_oa_evaluation_2020_named_unis_dataset_2020_02_12.csv?download=1')"
   ]
  },
  {
   "cell_type": "code",
   "execution_count": null,
   "metadata": {},
   "outputs": [],
   "source": [
    "## Helper functions ##\n",
    "\n",
    "# Data cleanup required, mainly on country names #\n",
    "def clean_geo_names(df):\n",
    "    country_clean = { \"country\" : {\n",
    "        \"United Kingdom of Great Britain and Northern Ireland\" : \"United Kingdom\",\n",
    "        \"Iran (Islamic Republic of)\" : \"Iran\",\n",
    "        \"Korea, Republic of\" : \"South Korea\",\n",
    "        \"Taiwan, Province of China\" : \"Taiwan\"\n",
    "                              }\n",
    "                    }\n",
    "    df.replace(to_replace = country_clean, inplace=True)\n",
    "\n",
    "    df.loc[df.country.isin(['Canada', 'United States of America']), 'region'] = 'North America'\n",
    "    df.replace('Americas', 'Latin America', inplace=True)\n",
    "    return df\n",
    "\n",
    "# Creating nice column names for graphing\n",
    "def nice_column_names(df):\n",
    "    cols = [\n",
    "        ('Open Access (%)', 'percent_oa'),\n",
    "        ('Total Green OA (%)', 'percent_green'),\n",
    "        ('Total Gold OA (%)', 'percent_gold'),\n",
    "        ('Gold DOAJ (%)', 'percent_gold_just_doaj'),\n",
    "        ('Green in Institutional Repository (%)', 'percent_in_home_repo'),\n",
    "        ('Hybrid OA (%)', 'percent_hybrid'),\n",
    "        ('Total Publications', 'total'),\n",
    "        ('Change in Open Access (%)', 'total_oa_pc_change'),\n",
    "        ('Change in Green OA (%)', 'green_pc_change'),\n",
    "        ('Change in Gold OA (%)', 'gold_pc_change'),\n",
    "        ('Change in Total Publications (%)', 'total_pc_change'),        \n",
    "        ('Year of Publication', 'published_year'),\n",
    "        ('University Name', 'name'),\n",
    "        ('Region', 'region'),\n",
    "        ('Country', 'country'),\n",
    "            ]\n",
    "    for col in cols:\n",
    "        if col[1] in df.columns.values:\n",
    "            df[col[0]] = df[col[1]]\n",
    "\n",
    "    return df\n",
    "\n",
    "# Function for creating percent_changes year on year\n",
    "def calculate_pc_change(df, columns, \n",
    "              id_column='grid_id', \n",
    "              year_column='published_year',\n",
    "              column_name_add='_pc_change'):\n",
    "    df = df.sort_values(year_column, ascending=True)\n",
    "    for column in columns:\n",
    "        new_column_name = column + column_name_add\n",
    "        df[new_column_name] = list(df.groupby(id_column)[column].pct_change()*100)   \n",
    "    return df\n",
    "\n",
    "# Function for calculating confidence intervals\n",
    "def calculate_confidence_interval(df, columns,\n",
    "                                  total_column='total',\n",
    "                                  column_name_add='_err'):\n",
    "    for column in columns:\n",
    "        new_column_name = column + column_name_add\n",
    "        df[new_column_name] = 100*3.43*(                                            df[column] / 100 *\n",
    "                                                   (\n",
    "                                                    1 - df[column] / 100\n",
    "                                                   ) /\n",
    "                                            df[total_column]\n",
    "                                                )**(.5)\n",
    "    return df"
   ]
  },
  {
   "cell_type": "code",
   "execution_count": null,
   "metadata": {},
   "outputs": [],
   "source": [
    "# Do the data cleanup and a few calculations for graphing\n",
    "clean_geo_names(full)\n",
    "clean_geo_names(named)\n",
    "full = calculate_confidence_interval(full,\n",
    "                                 ['percent_gold', \n",
    "                                  'percent_green', \n",
    "                                  'percent_oa'])\n",
    "named = calculate_pc_change(named, \n",
    "              ['gold', \n",
    "               'green', \n",
    "               'total_oa', \n",
    "               'total'])\n",
    "named = calculate_confidence_interval(named,\n",
    "                                 ['percent_gold', \n",
    "                                  'percent_green', \n",
    "                                  'percent_oa'])\n",
    "full = nice_column_names(full)\n",
    "named = nice_column_names(named)"
   ]
  },
  {
   "cell_type": "markdown",
   "metadata": {},
   "source": [
    "<div style=\"page-break-after: always; visibility: hidden\"> \n",
    "\\pagebreak \n",
    "</div>\n",
    "\n",
    "#### Supplementary Figure 1: Top 100 universities in terms of performance in Total OA, Gold OA and Green OA for 2016"
   ]
  },
  {
   "cell_type": "code",
   "execution_count": null,
   "metadata": {},
   "outputs": [],
   "source": [
    "from matplotlib.lines import Line2D\n",
    "legend_elements = [Line2D([0], [0], color='orange', lw=8, label='Asia'),\n",
    "                   Line2D([0], [0], color='limegreen', lw=8, label='Europe'),\n",
    "                   Line2D([0], [0], color='dodgerblue', lw=8, label='North America'),\n",
    "                   Line2D([0], [0], color='brown', lw=8, label='Latin America'),\n",
    "                   Line2D([0], [0], color='magenta', lw=8, label='Africa'),\n",
    "                   Line2D([0], [0], color='red', lw=8, label='Oceania')]\n",
    "# Create the figure\n",
    "fig, ax = plt.subplots(figsize=(16,0.7))\n",
    "ax.legend(handles=legend_elements, loc='lower center', frameon=True, ncol=6)\n",
    "plt.axis('off')\n",
    "plt.show()\n",
    "params = [\n",
    "            {\n",
    "            'chart_class': charts.ConfidenceIntervalRank,\n",
    "            'rankcol': 'Open Access (%)',\n",
    "            'errorcol': 'percent_oa_err',\n",
    "            'filter_name': 'published_year',\n",
    "            'filter_value': 2016\n",
    "            },\n",
    "            {\n",
    "            'chart_class': charts.ConfidenceIntervalRank,\n",
    "            'rankcol': 'Total Gold OA (%)',\n",
    "            'errorcol': 'percent_gold_err',\n",
    "            'filter_name': 'published_year',\n",
    "            'filter_value': 2016\n",
    "            },\n",
    "            {\n",
    "            'chart_class': charts.ConfidenceIntervalRank,\n",
    "            'rankcol': 'Total Green OA (%)',\n",
    "            'errorcol': 'percent_green_err',\n",
    "            'filter_name': 'published_year',\n",
    "            'filter_value': 2016\n",
    "            }\n",
    "]\n",
    "figures1 = charts.Layout(named[(named.percent_green_err<17)&\n",
    "                              (named.total*named.percent_green/100>5)&\n",
    "                              ((named.total*(1-named.percent_green/100)>5))&\n",
    "                              (named.percent_gold_err<17)&\n",
    "                              (named.total*named.percent_gold/100>5)&\n",
    "                              ((named.total*(1-named.percent_gold/100)>5))&\n",
    "                              (named.percent_oa_err<17)&\n",
    "                              (named.total*named.percent_oa/100>5)&\n",
    "                              ((named.total*(1-named.percent_oa/100)>5))], params)\n",
    "figures1.process_data()\n",
    "figures1.plot(wspace=1.36);"
   ]
  },
  {
   "cell_type": "markdown",
   "metadata": {},
   "source": [
    "<div style=\"page-break-after: always; visibility: hidden\"> \n",
    "\\pagebreak \n",
    "</div>\n",
    "\n",
    "#### Supplementary Figure 2: Top 100 universities in terms of performance in Total OA, Gold OA and Green OA for 2018"
   ]
  },
  {
   "cell_type": "code",
   "execution_count": null,
   "metadata": {},
   "outputs": [],
   "source": [
    "from matplotlib.lines import Line2D\n",
    "legend_elements = [Line2D([0], [0], color='orange', lw=8, label='Asia'),\n",
    "                   Line2D([0], [0], color='limegreen', lw=8, label='Europe'),\n",
    "                   Line2D([0], [0], color='dodgerblue', lw=8, label='North America'),\n",
    "                   Line2D([0], [0], color='brown', lw=8, label='Latin America'),\n",
    "                   Line2D([0], [0], color='magenta', lw=8, label='Africa'),\n",
    "                   Line2D([0], [0], color='red', lw=8, label='Oceania')]\n",
    "# Create the figure\n",
    "fig, ax = plt.subplots(figsize=(16,0.7))\n",
    "ax.legend(handles=legend_elements, loc='lower center', frameon=True, ncol=6)\n",
    "plt.axis('off')\n",
    "plt.show()\n",
    "params = [\n",
    "            {\n",
    "            'chart_class': charts.ConfidenceIntervalRank,\n",
    "            'rankcol': 'Open Access (%)',\n",
    "            'errorcol': 'percent_oa_err',\n",
    "            'filter_name': 'published_year',\n",
    "            'filter_value': 2018\n",
    "            },\n",
    "            {\n",
    "            'chart_class': charts.ConfidenceIntervalRank,\n",
    "            'rankcol': 'Total Gold OA (%)',\n",
    "            'errorcol': 'percent_gold_err',\n",
    "            'filter_name': 'published_year',\n",
    "            'filter_value': 2018\n",
    "            },\n",
    "            {\n",
    "            'chart_class': charts.ConfidenceIntervalRank,\n",
    "            'rankcol': 'Total Green OA (%)',\n",
    "            'errorcol': 'percent_green_err',\n",
    "            'filter_name': 'published_year',\n",
    "            'filter_value': 2018\n",
    "            }\n",
    "]\n",
    "figures2 = charts.Layout(named[(named.percent_green_err<17)&\n",
    "                              (named.total*named.percent_green/100>5)&\n",
    "                              ((named.total*(1-named.percent_green/100)>5))&\n",
    "                              (named.percent_gold_err<17)&\n",
    "                              (named.total*named.percent_gold/100>5)&\n",
    "                              ((named.total*(1-named.percent_gold/100)>5))&\n",
    "                              (named.percent_oa_err<17)&\n",
    "                              (named.total*named.percent_oa/100>5)&\n",
    "                              ((named.total*(1-named.percent_oa/100)>5))], params)\n",
    "figures2.process_data()\n",
    "figures2.plot(wspace=1.36);"
   ]
  },
  {
   "cell_type": "markdown",
   "metadata": {},
   "source": [
    "<div style=\"page-break-after: always; visibility: hidden\"> \n",
    "\\pagebreak \n",
    "</div>\n",
    "\n",
    "#### Supplementary Figure 3: Percentages of institutional Total OA, Gold OA and Green OA (left to right) grouped by countries for 2017"
   ]
  },
  {
   "cell_type": "code",
   "execution_count": null,
   "metadata": {},
   "outputs": [],
   "source": [
    "figures3 = charts.BoxScatter(full, 2017, 'country', ['Open Access (%)',\n",
    "                                                         'Total Gold OA (%)',\n",
    "                                                         'Total Green OA (%)'])\n",
    "figures3.process_data()\n",
    "figures3.plot();"
   ]
  },
  {
   "cell_type": "markdown",
   "metadata": {},
   "source": [
    "<div style=\"page-break-after: always; visibility: hidden\"> \n",
    "\\pagebreak \n",
    "</div>\n",
    "\n",
    "#### Supplementary Figure 4: Percentages of institutional Total OA, Gold OA and Green OA (left to right) grouped by countries for 2016"
   ]
  },
  {
   "cell_type": "code",
   "execution_count": null,
   "metadata": {},
   "outputs": [],
   "source": [
    "figures4 = charts.BoxScatter(full, 2016, 'country', ['Open Access (%)',\n",
    "                                                         'Total Gold OA (%)',\n",
    "                                                         'Total Green OA (%)'])\n",
    "figures4.process_data()\n",
    "figures4.plot();"
   ]
  },
  {
   "cell_type": "markdown",
   "metadata": {},
   "source": [
    "<div style=\"page-break-after: always; visibility: hidden\"> \n",
    "\\pagebreak \n",
    "</div>\n",
    "\n",
    "#### Supplementary Figure 5: Percentages of institutional Total OA, Gold OA and Green OA (left to right) grouped by countries for 2018"
   ]
  },
  {
   "cell_type": "code",
   "execution_count": null,
   "metadata": {
    "scrolled": false
   },
   "outputs": [],
   "source": [
    "figures5 = charts.BoxScatter(full, 2018, 'country', ['Open Access (%)',\n",
    "                                                         'Total Gold OA (%)',\n",
    "                                                         'Total Green OA (%)'])\n",
    "figures5.process_data()\n",
    "figures5.plot();"
   ]
  },
  {
   "cell_type": "markdown",
   "metadata": {},
   "source": [
    "<div style=\"page-break-after: always; visibility: hidden\"> \n",
    "\\pagebreak \n",
    "</div>\n",
    "\n",
    "#### Supplementary Figure 6: Percentages of institutional Total OA, Gold OA and Green OA (left to right) grouped by regions for 2017"
   ]
  },
  {
   "cell_type": "code",
   "execution_count": null,
   "metadata": {
    "scrolled": false
   },
   "outputs": [],
   "source": [
    "sns.set_context(\"paper\",rc={\"legend.fontsize\":14,\"axes.labelsize\":14},font_scale=2)\n",
    "figures6 = charts.BoxScatter(full, 2017, 'region', ['Open Access (%)',\n",
    "                                                         'Total Gold OA (%)',\n",
    "                                                         'Total Green OA (%)'])\n",
    "figures6.process_data()\n",
    "figures6.plot(figsize=(15,5));"
   ]
  },
  {
   "cell_type": "markdown",
   "metadata": {},
   "source": [
    "#### Supplementary Figure 7: Percentages of institutional Total OA, Gold OA and Green OA (left to right) grouped by regions for 2018"
   ]
  },
  {
   "cell_type": "code",
   "execution_count": null,
   "metadata": {},
   "outputs": [],
   "source": [
    "figures7 = charts.BoxScatter(full, 2016, 'region', ['Open Access (%)',\n",
    "                                                         'Total Gold OA (%)',\n",
    "                                                         'Total Green OA (%)'])\n",
    "figures7.process_data()\n",
    "figures7.plot(figsize=(15,5));"
   ]
  },
  {
   "cell_type": "markdown",
   "metadata": {},
   "source": [
    "#### Supplementary Figure 8: Percentages of institutional Total OA, Gold OA and Green OA (left to right) grouped by regions for 2016"
   ]
  },
  {
   "cell_type": "code",
   "execution_count": null,
   "metadata": {},
   "outputs": [],
   "source": [
    "figures8 = charts.BoxScatter(full, 2018, 'region', ['Open Access (%)',\n",
    "                                                         'Total Gold OA (%)',\n",
    "                                                         'Total Green OA (%)'])\n",
    "figures8.process_data()\n",
    "figures8.plot(figsize=(15,5));"
   ]
  },
  {
   "cell_type": "markdown",
   "metadata": {},
   "source": [
    "#### Supplementary Figure 9: Open access publishing vs repository-mediated open access by institution from 2007-2018"
   ]
  },
  {
   "cell_type": "code",
   "execution_count": null,
   "metadata": {
    "scrolled": false
   },
   "outputs": [],
   "source": [
    "sns.set_context(\"paper\",rc={\"legend.fontsize\":13,\"axes.labelsize\":16},font_scale=2)\n",
    "figdata = full[(full.percent_green_err<17)&\n",
    "                            (full.total*full.percent_green/100>5)&\n",
    "                              ((full.total*(1-full.percent_green/100)>5))&\n",
    "                              (full.percent_gold_err<17)&\n",
    "                              (full.total*full.percent_gold/100>5)&\n",
    "                              ((full.total*(1-full.percent_gold/100)>5))&\n",
    "                              (full.percent_oa_err<17)&\n",
    "                              (full.total*full.percent_oa/100>5)&\n",
    "                              ((full.total*(1-full.percent_oa/100)>5))]\n",
    "for year in range(2007,2019):\n",
    "    figures9 = charts.ScatterPlot(figdata, \n",
    "                                   'Total Green OA (%)', \n",
    "                                   'Total Gold OA (%)', \n",
    "                                   'Year of Publication', year,\n",
    "                                   hue_column='Region', \n",
    "                                   size_column='Total Publications')\n",
    "    figures9.process_data()\n",
    "    figures9.plot(xlim=(0,130), ylim=(0,100), figsize=(10,6))\n",
    "    plt.text(5, 95, year, bbox=dict(fill=False, edgecolor='black', linewidth=1))\n"
   ]
  },
  {
   "cell_type": "markdown",
   "metadata": {
    "scrolled": true
   },
   "source": [
    "<div style=\"page-break-after: always; visibility: hidden\"> \n",
    "\\pagebreak \n",
    "</div>\n",
    "\n",
    "#### Supplementary Figure 10: Additional figures for monitoring the effect of policy interventions for selected groups of universities."
   ]
  },
  {
   "cell_type": "code",
   "execution_count": null,
   "metadata": {},
   "outputs": [],
   "source": [
    "sns.set_context(\"paper\",rc={\"legend.fontsize\":10,\"axes.labelsize\":10},font_scale=1)\n",
    "\n",
    "named = named.sort_values(['grid_id', 'published_year'])\n",
    "named['Change in % Gold'] = named.percent_gold.diff()\n",
    "named['Change in % Gold DOAJ'] = named.percent_gold_just_doaj.diff()\n",
    "named['Change in % Hybrid'] = named.percent_hybrid.diff()\n",
    "plots = [\n",
    "            {\n",
    "            'year_range': (2008,2018),\n",
    "            'unis': [\n",
    "                'grid.83440.3b', # University College London \n",
    "                'grid.5335.0', # University of Cambridge \n",
    "                'grid.8756.c', # University of Glasgow\n",
    "                'grid.6571.5', # Loughborough University\n",
    "                'grid.11914.3c', # University of St Andrews\n",
    "                'grid.11201.33', #Plymouth University\n",
    "                    ],\n",
    "            'y_column': 'Change in % Gold DOAJ',\n",
    "            'markerline' : 2012\n",
    "            },\n",
    "            {\n",
    "            'year_range': (2008,2018),\n",
    "            'unis': [\n",
    "                'grid.83440.3b', # University College London \n",
    "                'grid.5335.0', # University of Cambridge \n",
    "                'grid.8756.c', # University of Glasgow\n",
    "                'grid.6571.5', # Loughborough University\n",
    "                'grid.11914.3c', # University of St Andrews\n",
    "                'grid.11201.33', #Plymouth University\n",
    "                    ],\n",
    "            'y_column': 'Change in % Hybrid',\n",
    "            'markerline' : 2012\n",
    "            },\n",
    "            {\n",
    "            'year_range': (2008,2018),\n",
    "            'unis': [    \n",
    "                'grid.5132.5', # Leiden University\n",
    "                'grid.4830.f', # University of Groningen\n",
    "                'grid.5477.1', # Utrecht University\n",
    "                'grid.5590.9', # Radboud University Nijmegen\n",
    "                'grid.12380.38', # VU University Amsterdam\n",
    "                #'grid.6852.9', # Eindhoven University of Technology\n",
    "                    ],\n",
    "            'y_column' : 'Gold DOAJ (%)',\n",
    "            'markerline' : 2014\n",
    "            },\n",
    "            {\n",
    "            'year_range': (2008,2018),\n",
    "            'unis': [    \n",
    "                'grid.5132.5', # Leiden University\n",
    "                'grid.4830.f', # University of Groningen\n",
    "                'grid.5477.1', # Utrecht University\n",
    "                'grid.5590.9', # Radboud University Nijmegen\n",
    "                'grid.12380.38', # VU University Amsterdam\n",
    "                #'grid.6852.9', # Eindhoven University of Technology\n",
    "                    ],\n",
    "            'y_column' : 'Hybrid OA (%)',\n",
    "            'markerline' : 2014\n",
    "            }\n",
    "]\n",
    "figure10 = charts.TimePlotLayout(named, plots)\n",
    "figure10.process_data()\n",
    "fig = figure10.plot(figsize=(15,10), \n",
    "             wspace=0.3, \n",
    "             ylabel_adjustment=0.025, \n",
    "             panel_labels=True, \n",
    "             panellable_adjustment=0.02)\n",
    "\n",
    "axes = fig.axes\n",
    "for ax in axes[0:6]:\n",
    "    ax.set_ylim(-2.5,6.7)\n",
    "for ax in axes[6:12]:\n",
    "    ax.set_ylim(-2.5,4.7)\n",
    "for ax in axes[12:17]:\n",
    "    ax.set_ylim(10,40)\n",
    "for ax in axes[17:23]:\n",
    "    ax.set_ylim(6,19)"
   ]
  },
  {
   "cell_type": "code",
   "execution_count": null,
   "metadata": {},
   "outputs": [],
   "source": []
  }
 ],
 "metadata": {
  "hide_input": false,
  "kernelspec": {
   "display_name": "Python 3",
   "language": "python",
   "name": "python3"
  },
  "language_info": {
   "codemirror_mode": {
    "name": "ipython",
    "version": 3
   },
   "file_extension": ".py",
   "mimetype": "text/x-python",
   "name": "python",
   "nbconvert_exporter": "python",
   "pygments_lexer": "ipython3",
   "version": "3.7.4"
  },
  "title": "Supplementary Figures",
  "toc": {
   "base_numbering": 1,
   "nav_menu": {},
   "number_sections": true,
   "sideBar": true,
   "skip_h1_title": true,
   "title_cell": "Table of Contents",
   "title_sidebar": "Contents",
   "toc_cell": false,
   "toc_position": {},
   "toc_section_display": true,
   "toc_window_display": false
  }
 },
 "nbformat": 4,
 "nbformat_minor": 2
}
